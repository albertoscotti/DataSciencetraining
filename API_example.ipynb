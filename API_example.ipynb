{
 "cells": [
  {
   "cell_type": "markdown",
   "metadata": {},
   "source": [
    "# PLAYING WITH APIs"
   ]
  },
  {
   "cell_type": "code",
   "execution_count": 1,
   "metadata": {},
   "outputs": [],
   "source": [
    "# Import relevant libraries\n",
    "import requests\n",
    "import json"
   ]
  },
  {
   "cell_type": "code",
   "execution_count": null,
   "metadata": {},
   "outputs": [
    {
     "name": "stdout",
     "output_type": "stream",
     "text": [
      "200\n"
     ]
    }
   ],
   "source": [
    "# Get the data from the API\n",
    "url = \"https://pokeapi.co/api/v2/pokemon-habitat\"\n",
    "response = requests.get(url)\n",
    "\n",
    "print(response.status_code) # Successful (200)\n"
   ]
  },
  {
   "cell_type": "code",
   "execution_count": null,
   "metadata": {},
   "outputs": [
    {
     "name": "stdout",
     "output_type": "stream",
     "text": [
      "cave\n",
      "forest\n",
      "grassland\n",
      "mountain\n",
      "rare\n",
      "rough-terrain\n",
      "sea\n",
      "urban\n",
      "waters-edge\n"
     ]
    },
    {
     "data": {
      "text/plain": [
       "['cave',\n",
       " 'forest',\n",
       " 'grassland',\n",
       " 'mountain',\n",
       " 'rare',\n",
       " 'rough-terrain',\n",
       " 'sea',\n",
       " 'urban',\n",
       " 'waters-edge']"
      ]
     },
     "execution_count": 10,
     "metadata": {},
     "output_type": "execute_result"
    }
   ],
   "source": [
    "# Save and check the data\n",
    "data = response.json()\n",
    "data # See what they looks like: habitat names are stored in 'results' key\n",
    "\n",
    "# Print the names of the habitats\n",
    "for habitat in data['results']:\n",
    "    print(habitat['name'])\n",
    "\n",
    "# Save the habitats in variable\n",
    "habitats = [habitat['name'] for habitat in data['results']]\n",
    "habitats"
   ]
  },
  {
   "cell_type": "code",
   "execution_count": 13,
   "metadata": {},
   "outputs": [
    {
     "name": "stdout",
     "output_type": "stream",
     "text": [
      "403\n"
     ]
    }
   ],
   "source": [
    "url = \"https://pokeapi.co/api/v2/pokemon-habitat/forest\"\n",
    "response = requests.get(url)\n",
    "\n",
    "print(response.status_code) # Successful (200)"
   ]
  },
  {
   "cell_type": "code",
   "execution_count": 14,
   "metadata": {},
   "outputs": [
    {
     "name": "stdout",
     "output_type": "stream",
     "text": [
      "\n",
      "Pokémon in cave: ['zubat', 'diglett', 'golbat', 'dugtrio', 'gastly', 'onix', 'haunter', 'gengar', 'misdreavus', 'dunsparce', 'swinub', 'crobat', 'wobbuffet', 'steelix', 'piloswine', 'whismur', 'nosepass', 'loudred', 'exploud', 'sableye', 'mawile', 'lunatone', 'solrock', 'wynaut', 'snorunt', 'glalie', 'regirock', 'regice', 'registeel']\n",
      "Failed to retrieve Pokémon for habitat: forest\n",
      "\n",
      "Pokémon in grassland: ['bulbasaur', 'rattata', 'ekans', 'nidoran-f', 'nidoran-m', 'vulpix', 'oddish', 'growlithe', 'venusaur', 'raticate', 'arbok', 'nidorina', 'nidoqueen', 'nidorino', 'nidoking', 'ninetales', 'jigglypuff', 'wigglytuff', 'gloom', 'vileplume', 'arcanine', 'ponyta', 'farfetchd', 'doduo', 'drowzee', 'lickitung', 'tangela', 'kangaskhan', 'scyther', 'tauros', 'rapidash', 'dodrio', 'hypno', 'electabuzz', 'chikorita', 'cyndaquil', 'sentret', 'igglybuff', 'mareep', 'hoppip', 'sunkern', 'girafarig', 'meganium', 'quilava', 'typhlosion', 'furret', 'flaaffy', 'ampharos', 'bellossom', 'skiploom', 'jumpluff', 'sunflora', 'scizor', 'elekid', 'miltank', 'raikou', 'entei', 'suicune', 'torchic', 'poochyena', 'zigzagoon', 'taillow', 'combusken', 'blaziken', 'mightyena', 'linoone', 'swellow', 'electrike', 'plusle', 'minun', 'gulpin', 'zangoose', 'seviper', 'castform', 'manectric', 'roselia', 'swalot', 'chimecho', 'ivysaur', 'bayleef']\n",
      "Failed to retrieve Pokémon for habitat: mountain\n",
      "Failed to retrieve Pokémon for habitat: rare\n",
      "Failed to retrieve Pokémon for habitat: rough-terrain\n",
      "Failed to retrieve Pokémon for habitat: sea\n",
      "Failed to retrieve Pokémon for habitat: urban\n",
      "Failed to retrieve Pokémon for habitat: waters-edge\n"
     ]
    }
   ],
   "source": [
    "# Get Pokemon data per each habitat\n",
    "for habitat in habitats:\n",
    "    habitat_url = f\"https://pokeapi.co/api/v2/pokemon-habitat/{habitat}/\"\n",
    "    response = requests.get(habitat_url)\n",
    "    if response.status_code == 200:\n",
    "        data = response.json()\n",
    "        pokemon_list = [species['name'] for species in data['pokemon_species']]\n",
    "        print(f\"\\nPokémon in {habitat}: {pokemon_list}\")\n",
    "    else:\n",
    "        print(f\"Failed to retrieve Pokémon for habitat: {habitat}\")"
   ]
  }
 ],
 "metadata": {
  "kernelspec": {
   "display_name": "base",
   "language": "python",
   "name": "python3"
  },
  "language_info": {
   "codemirror_mode": {
    "name": "ipython",
    "version": 3
   },
   "file_extension": ".py",
   "mimetype": "text/x-python",
   "name": "python",
   "nbconvert_exporter": "python",
   "pygments_lexer": "ipython3",
   "version": "3.12.7"
  }
 },
 "nbformat": 4,
 "nbformat_minor": 2
}
