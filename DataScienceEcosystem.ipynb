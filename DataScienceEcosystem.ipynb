{
    "cells": [
        {
            "cell_type": "markdown",
            "metadata": {
                "collapsed": true,
                "id": "b74dd263-ccea-417d-b0f7-ff47c61d9c9a",
                "jupyter": {
                    "outputs_hidden": true
                }
            },
            "source": "# Data Science Tools and Ecosystem"
        },
        {
            "cell_type": "markdown",
            "metadata": {
                "id": "03cc4236-9401-4117-a442-9089b7be459c"
            },
            "source": "## Author:\nAlberto Scotti"
        },
        {
            "cell_type": "markdown",
            "metadata": {
                "id": "0e790c45-63b2-49b5-8945-f80141ab1e21"
            },
            "source": "In this notebook, Data Science Tools and Ecosystem are summarized."
        },
        {
            "cell_type": "markdown",
            "metadata": {
                "id": "09824d3a-29d8-4e1b-aa03-33d09c61cac8"
            },
            "source": "Objectives:\n- Know popular data science languages\n- Know what is Git and how to use GitHub\n- Know what are the most popular libraries for data scientists\n- **Prepare this Jupyter notebook! :)**"
        },
        {
            "cell_type": "markdown",
            "metadata": {
                "id": "7531485b-5959-4fa1-8a4f-d05649b599b9"
            },
            "source": "Some of the **popular languages** that *Data Scientists* use are:\n1) R;\n2) Python;\n3) SQL;\n4) Julia;\n5) Scala"
        },
        {
            "cell_type": "markdown",
            "metadata": {
                "id": "2b741497-3be9-429f-8cea-98c48528a284"
            },
            "source": "Some of the **commonly used libraries** used by *Data Scientists* include:\n1) tidyverse (data wrangling, R);\n2) ggplot2 (data visualisation, R);\n3) Pandas (data wrangling, Python)\n4) Matplotlib (data visualisation, Python);\n5) Scikit-learn (data modelling, Python)\n"
        },
        {
            "cell_type": "markdown",
            "metadata": {
                "id": "cf9863f9-870c-416a-9e73-fb895b4258ad"
            },
            "source": "|Data Science Tools|\n|:--:|\n|VSCode|\n|RStudio|\n|Spyder|"
        },
        {
            "cell_type": "markdown",
            "metadata": {
                "id": "28bb31ca-2cec-439d-9a7e-f47fda1b68b2"
            },
            "source": "Below are a few examples of evaluating arithmetic expressions in Python:"
        },
        {
            "cell_type": "code",
            "execution_count": 2,
            "metadata": {
                "id": "8a8f2731-0b6b-4824-af5c-1a64cee61900"
            },
            "outputs": [
                {
                    "data": {
                        "text/plain": "17"
                    },
                    "execution_count": 2,
                    "metadata": {},
                    "output_type": "execute_result"
                }
            ],
            "source": "# This a simple arithmetic expression to mutiply then add integers\n(3*4)+5"
        },
        {
            "cell_type": "code",
            "execution_count": 3,
            "metadata": {
                "id": "28dd6aaa-f7cf-4825-93e0-4a7027f09321"
            },
            "outputs": [
                {
                    "data": {
                        "text/plain": "3.3333333333333335"
                    },
                    "execution_count": 3,
                    "metadata": {},
                    "output_type": "execute_result"
                }
            ],
            "source": "#This will convert 200 minutes to hours by diving by 60\n200/60"
        },
        {
            "cell_type": "code",
            "execution_count": null,
            "metadata": {
                "id": "e87895aa-fcce-4c57-aa68-eb991bed84e4"
            },
            "outputs": [],
            "source": ""
        }
    ],
    "metadata": {
        "kernelspec": {
            "display_name": "Python 3.11",
            "language": "python",
            "name": "python3"
        },
        "language_info": {
            "codemirror_mode": {
                "name": "ipython",
                "version": 3
            },
            "file_extension": ".py",
            "mimetype": "text/x-python",
            "name": "python",
            "nbconvert_exporter": "python",
            "pygments_lexer": "ipython3",
            "version": "3.11.9"
        }
    },
    "nbformat": 4,
    "nbformat_minor": 4
}